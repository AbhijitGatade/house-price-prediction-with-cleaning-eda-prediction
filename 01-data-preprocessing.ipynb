{
 "cells": [
  {
   "cell_type": "code",
   "execution_count": 1,
   "id": "186a5fea",
   "metadata": {},
   "outputs": [],
   "source": [
    "import numpy as np\n",
    "import pandas as pd\n",
    "import matplotlib.pyplot as plt\n",
    "import seaborn as sns"
   ]
  },
  {
   "cell_type": "code",
   "execution_count": 2,
   "id": "de942d9c",
   "metadata": {},
   "outputs": [],
   "source": [
    "ds = pd.read_csv(\"data.csv\")"
   ]
  },
  {
   "cell_type": "code",
   "execution_count": 42,
   "id": "bb8b2d7e",
   "metadata": {},
   "outputs": [
    {
     "name": "stdout",
     "output_type": "stream",
     "text": [
      "<class 'pandas.core.frame.DataFrame'>\n",
      "Int64Index: 23376 entries, 0 to 29450\n",
      "Data columns (total 11 columns):\n",
      " #   Column                 Non-Null Count  Dtype  \n",
      "---  ------                 --------------  -----  \n",
      " 0   POSTED_BY              23376 non-null  object \n",
      " 1   UNDER_CONSTRUCTION     23376 non-null  int64  \n",
      " 2   RERA                   23376 non-null  int64  \n",
      " 3   BHK_NO.                23376 non-null  int64  \n",
      " 4   BHK_OR_RK              23376 non-null  object \n",
      " 5   SQUARE_FT              23376 non-null  float64\n",
      " 6   READY_TO_MOVE          23376 non-null  int64  \n",
      " 7   RESALE                 23376 non-null  int64  \n",
      " 8   ADDRESS                23376 non-null  object \n",
      " 9   TARGET(PRICE_IN_LACS)  23376 non-null  float64\n",
      " 10  CITY                   23376 non-null  object \n",
      "dtypes: float64(2), int64(5), object(4)\n",
      "memory usage: 2.6+ MB\n"
     ]
    }
   ],
   "source": [
    "ds.info()"
   ]
  },
  {
   "cell_type": "code",
   "execution_count": 4,
   "id": "ea3982e1",
   "metadata": {},
   "outputs": [
    {
     "data": {
      "text/plain": [
       "array(['Owner', 'Dealer', 'Builder'], dtype=object)"
      ]
     },
     "execution_count": 4,
     "metadata": {},
     "output_type": "execute_result"
    }
   ],
   "source": [
    "#We found problem in our opinion\n",
    "#SQUARE_FT - Range 300 - 3000 SqFt\n",
    "#Address - Split, City\n",
    "#Longitude, Latitude"
   ]
  },
  {
   "cell_type": "code",
   "execution_count": 9,
   "id": "20e074c5",
   "metadata": {},
   "outputs": [],
   "source": [
    "#Remove columns\n",
    "ds = ds.drop(columns=[\"LATITUDE\", \"LONGITUDE\"])"
   ]
  },
  {
   "cell_type": "code",
   "execution_count": 14,
   "id": "40778372",
   "metadata": {},
   "outputs": [],
   "source": [
    "#Outliers remove based on SQUARE_FT\n",
    "for i in ds.index:\n",
    "    if ds.loc[i, \"SQUARE_FT\"] > 3000 or ds.loc[i, \"SQUARE_FT\"] < 300:\n",
    "        ds.drop(i, inplace = True)"
   ]
  },
  {
   "cell_type": "code",
   "execution_count": 17,
   "id": "ba28b191",
   "metadata": {},
   "outputs": [],
   "source": [
    "#Outliers remove based on TARGET(PRICE_IN_LACS)\n",
    "for i in ds.index:\n",
    "    if ds.loc[i, \"TARGET(PRICE_IN_LACS)\"] > 120 or ds.loc[i, \"TARGET(PRICE_IN_LACS)\"] < 3:\n",
    "        ds.drop(i, inplace = True)"
   ]
  },
  {
   "cell_type": "code",
   "execution_count": 22,
   "id": "7af753e2",
   "metadata": {},
   "outputs": [],
   "source": [
    "for i in ds.index:\n",
    "    ds.loc[i, \"SQUARE_FT\"] = round(ds.loc[i, \"SQUARE_FT\"], 2)"
   ]
  },
  {
   "cell_type": "code",
   "execution_count": 32,
   "id": "76fe3d9c",
   "metadata": {},
   "outputs": [],
   "source": [
    "ds['CITY'] = ds['ADDRESS'].str.split(\",\").str.get(-1).str.strip()\n",
    "# for i in ds.index:\n",
    "#     address = ds.loc[i, \"ADDRESS\"]\n",
    "#     city = address.rsplit(',')[-1]\n",
    "#     print(address, \"-\", city)\n",
    "# for column in ds.columns:\n",
    "#     print(\"-------------\")\n",
    "#     print(column)\n",
    "#     print(sorted(ds[column].unique()))"
   ]
  },
  {
   "cell_type": "code",
   "execution_count": 41,
   "id": "fb734a08",
   "metadata": {},
   "outputs": [],
   "source": [
    "for i in ds.index:\n",
    "    address = ds.loc[i, \"ADDRESS\"]\n",
    "    city = ds.loc[i, \"CITY\"]\n",
    "    address = address.replace(\",\" + city, \"\")\n",
    "    ds.loc[i, \"ADDRESS\"] = address"
   ]
  },
  {
   "cell_type": "code",
   "execution_count": 44,
   "id": "7bb18ca8",
   "metadata": {},
   "outputs": [],
   "source": [
    "ds.to_csv(\"cleaned_data.csv\")"
   ]
  },
  {
   "cell_type": "code",
   "execution_count": null,
   "id": "53c7596e",
   "metadata": {},
   "outputs": [],
   "source": []
  }
 ],
 "metadata": {
  "kernelspec": {
   "display_name": "Python 3 (ipykernel)",
   "language": "python",
   "name": "python3"
  },
  "language_info": {
   "codemirror_mode": {
    "name": "ipython",
    "version": 3
   },
   "file_extension": ".py",
   "mimetype": "text/x-python",
   "name": "python",
   "nbconvert_exporter": "python",
   "pygments_lexer": "ipython3",
   "version": "3.11.4"
  }
 },
 "nbformat": 4,
 "nbformat_minor": 5
}
