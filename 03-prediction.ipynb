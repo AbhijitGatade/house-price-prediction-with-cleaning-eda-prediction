{
 "cells": [
  {
   "cell_type": "code",
   "execution_count": 1,
   "id": "3ceb3e1a",
   "metadata": {},
   "outputs": [],
   "source": [
    "import numpy as np\n",
    "import pandas as pd"
   ]
  },
  {
   "cell_type": "code",
   "execution_count": 2,
   "id": "0c5e878a",
   "metadata": {},
   "outputs": [],
   "source": [
    "ds = pd.read_csv(\"cleaned_data.csv\")"
   ]
  },
  {
   "cell_type": "code",
   "execution_count": 3,
   "id": "40161d1e",
   "metadata": {},
   "outputs": [
    {
     "name": "stdout",
     "output_type": "stream",
     "text": [
      "<class 'pandas.core.frame.DataFrame'>\n",
      "RangeIndex: 23376 entries, 0 to 23375\n",
      "Data columns (total 12 columns):\n",
      " #   Column                 Non-Null Count  Dtype  \n",
      "---  ------                 --------------  -----  \n",
      " 0   Unnamed: 0             23376 non-null  int64  \n",
      " 1   POSTED_BY              23376 non-null  object \n",
      " 2   UNDER_CONSTRUCTION     23376 non-null  int64  \n",
      " 3   RERA                   23376 non-null  int64  \n",
      " 4   BHK_NO.                23376 non-null  int64  \n",
      " 5   BHK_OR_RK              23376 non-null  object \n",
      " 6   SQUARE_FT              23376 non-null  float64\n",
      " 7   READY_TO_MOVE          23376 non-null  int64  \n",
      " 8   RESALE                 23376 non-null  int64  \n",
      " 9   ADDRESS                23376 non-null  object \n",
      " 10  TARGET(PRICE_IN_LACS)  23376 non-null  float64\n",
      " 11  CITY                   23376 non-null  object \n",
      "dtypes: float64(2), int64(6), object(4)\n",
      "memory usage: 2.1+ MB\n"
     ]
    }
   ],
   "source": [
    "ds.info()"
   ]
  },
  {
   "cell_type": "code",
   "execution_count": 4,
   "id": "a82a5e31",
   "metadata": {},
   "outputs": [],
   "source": [
    "X = ds[['POSTED_BY', 'UNDER_CONSTRUCTION', 'RERA', 'BHK_NO.',\n",
    "        'BHK_OR_RK', 'SQUARE_FT', 'READY_TO_MOVE', 'RESALE','CITY']]"
   ]
  },
  {
   "cell_type": "code",
   "execution_count": 5,
   "id": "6ff82641",
   "metadata": {},
   "outputs": [],
   "source": [
    "y = ds[['TARGET(PRICE_IN_LACS)']]"
   ]
  },
  {
   "cell_type": "code",
   "execution_count": 6,
   "id": "bbdc2bf1",
   "metadata": {},
   "outputs": [
    {
     "data": {
      "text/html": [
       "<div>\n",
       "<style scoped>\n",
       "    .dataframe tbody tr th:only-of-type {\n",
       "        vertical-align: middle;\n",
       "    }\n",
       "\n",
       "    .dataframe tbody tr th {\n",
       "        vertical-align: top;\n",
       "    }\n",
       "\n",
       "    .dataframe thead th {\n",
       "        text-align: right;\n",
       "    }\n",
       "</style>\n",
       "<table border=\"1\" class=\"dataframe\">\n",
       "  <thead>\n",
       "    <tr style=\"text-align: right;\">\n",
       "      <th></th>\n",
       "      <th>POSTED_BY</th>\n",
       "      <th>UNDER_CONSTRUCTION</th>\n",
       "      <th>RERA</th>\n",
       "      <th>BHK_NO.</th>\n",
       "      <th>BHK_OR_RK</th>\n",
       "      <th>SQUARE_FT</th>\n",
       "      <th>READY_TO_MOVE</th>\n",
       "      <th>RESALE</th>\n",
       "      <th>CITY</th>\n",
       "    </tr>\n",
       "  </thead>\n",
       "  <tbody>\n",
       "    <tr>\n",
       "      <th>0</th>\n",
       "      <td>Owner</td>\n",
       "      <td>0</td>\n",
       "      <td>0</td>\n",
       "      <td>2</td>\n",
       "      <td>BHK</td>\n",
       "      <td>1300.24</td>\n",
       "      <td>1</td>\n",
       "      <td>1</td>\n",
       "      <td>Bangalore</td>\n",
       "    </tr>\n",
       "    <tr>\n",
       "      <th>1</th>\n",
       "      <td>Dealer</td>\n",
       "      <td>0</td>\n",
       "      <td>0</td>\n",
       "      <td>2</td>\n",
       "      <td>BHK</td>\n",
       "      <td>1275.00</td>\n",
       "      <td>1</td>\n",
       "      <td>1</td>\n",
       "      <td>Mysore</td>\n",
       "    </tr>\n",
       "    <tr>\n",
       "      <th>2</th>\n",
       "      <td>Owner</td>\n",
       "      <td>0</td>\n",
       "      <td>0</td>\n",
       "      <td>2</td>\n",
       "      <td>BHK</td>\n",
       "      <td>933.16</td>\n",
       "      <td>1</td>\n",
       "      <td>1</td>\n",
       "      <td>Bangalore</td>\n",
       "    </tr>\n",
       "    <tr>\n",
       "      <th>3</th>\n",
       "      <td>Owner</td>\n",
       "      <td>0</td>\n",
       "      <td>1</td>\n",
       "      <td>2</td>\n",
       "      <td>BHK</td>\n",
       "      <td>929.92</td>\n",
       "      <td>1</td>\n",
       "      <td>1</td>\n",
       "      <td>Ghaziabad</td>\n",
       "    </tr>\n",
       "    <tr>\n",
       "      <th>4</th>\n",
       "      <td>Dealer</td>\n",
       "      <td>1</td>\n",
       "      <td>0</td>\n",
       "      <td>2</td>\n",
       "      <td>BHK</td>\n",
       "      <td>999.01</td>\n",
       "      <td>0</td>\n",
       "      <td>1</td>\n",
       "      <td>Kolkata</td>\n",
       "    </tr>\n",
       "  </tbody>\n",
       "</table>\n",
       "</div>"
      ],
      "text/plain": [
       "  POSTED_BY  UNDER_CONSTRUCTION  RERA  BHK_NO. BHK_OR_RK  SQUARE_FT  \\\n",
       "0     Owner                   0     0        2       BHK    1300.24   \n",
       "1    Dealer                   0     0        2       BHK    1275.00   \n",
       "2     Owner                   0     0        2       BHK     933.16   \n",
       "3     Owner                   0     1        2       BHK     929.92   \n",
       "4    Dealer                   1     0        2       BHK     999.01   \n",
       "\n",
       "   READY_TO_MOVE  RESALE       CITY  \n",
       "0              1       1  Bangalore  \n",
       "1              1       1     Mysore  \n",
       "2              1       1  Bangalore  \n",
       "3              1       1  Ghaziabad  \n",
       "4              0       1    Kolkata  "
      ]
     },
     "execution_count": 6,
     "metadata": {},
     "output_type": "execute_result"
    }
   ],
   "source": [
    "X.head()"
   ]
  },
  {
   "cell_type": "code",
   "execution_count": 7,
   "id": "2bbf1ef6",
   "metadata": {},
   "outputs": [
    {
     "data": {
      "text/html": [
       "<style>#sk-container-id-1 {color: black;background-color: white;}#sk-container-id-1 pre{padding: 0;}#sk-container-id-1 div.sk-toggleable {background-color: white;}#sk-container-id-1 label.sk-toggleable__label {cursor: pointer;display: block;width: 100%;margin-bottom: 0;padding: 0.3em;box-sizing: border-box;text-align: center;}#sk-container-id-1 label.sk-toggleable__label-arrow:before {content: \"▸\";float: left;margin-right: 0.25em;color: #696969;}#sk-container-id-1 label.sk-toggleable__label-arrow:hover:before {color: black;}#sk-container-id-1 div.sk-estimator:hover label.sk-toggleable__label-arrow:before {color: black;}#sk-container-id-1 div.sk-toggleable__content {max-height: 0;max-width: 0;overflow: hidden;text-align: left;background-color: #f0f8ff;}#sk-container-id-1 div.sk-toggleable__content pre {margin: 0.2em;color: black;border-radius: 0.25em;background-color: #f0f8ff;}#sk-container-id-1 input.sk-toggleable__control:checked~div.sk-toggleable__content {max-height: 200px;max-width: 100%;overflow: auto;}#sk-container-id-1 input.sk-toggleable__control:checked~label.sk-toggleable__label-arrow:before {content: \"▾\";}#sk-container-id-1 div.sk-estimator input.sk-toggleable__control:checked~label.sk-toggleable__label {background-color: #d4ebff;}#sk-container-id-1 div.sk-label input.sk-toggleable__control:checked~label.sk-toggleable__label {background-color: #d4ebff;}#sk-container-id-1 input.sk-hidden--visually {border: 0;clip: rect(1px 1px 1px 1px);clip: rect(1px, 1px, 1px, 1px);height: 1px;margin: -1px;overflow: hidden;padding: 0;position: absolute;width: 1px;}#sk-container-id-1 div.sk-estimator {font-family: monospace;background-color: #f0f8ff;border: 1px dotted black;border-radius: 0.25em;box-sizing: border-box;margin-bottom: 0.5em;}#sk-container-id-1 div.sk-estimator:hover {background-color: #d4ebff;}#sk-container-id-1 div.sk-parallel-item::after {content: \"\";width: 100%;border-bottom: 1px solid gray;flex-grow: 1;}#sk-container-id-1 div.sk-label:hover label.sk-toggleable__label {background-color: #d4ebff;}#sk-container-id-1 div.sk-serial::before {content: \"\";position: absolute;border-left: 1px solid gray;box-sizing: border-box;top: 0;bottom: 0;left: 50%;z-index: 0;}#sk-container-id-1 div.sk-serial {display: flex;flex-direction: column;align-items: center;background-color: white;padding-right: 0.2em;padding-left: 0.2em;position: relative;}#sk-container-id-1 div.sk-item {position: relative;z-index: 1;}#sk-container-id-1 div.sk-parallel {display: flex;align-items: stretch;justify-content: center;background-color: white;position: relative;}#sk-container-id-1 div.sk-item::before, #sk-container-id-1 div.sk-parallel-item::before {content: \"\";position: absolute;border-left: 1px solid gray;box-sizing: border-box;top: 0;bottom: 0;left: 50%;z-index: -1;}#sk-container-id-1 div.sk-parallel-item {display: flex;flex-direction: column;z-index: 1;position: relative;background-color: white;}#sk-container-id-1 div.sk-parallel-item:first-child::after {align-self: flex-end;width: 50%;}#sk-container-id-1 div.sk-parallel-item:last-child::after {align-self: flex-start;width: 50%;}#sk-container-id-1 div.sk-parallel-item:only-child::after {width: 0;}#sk-container-id-1 div.sk-dashed-wrapped {border: 1px dashed gray;margin: 0 0.4em 0.5em 0.4em;box-sizing: border-box;padding-bottom: 0.4em;background-color: white;}#sk-container-id-1 div.sk-label label {font-family: monospace;font-weight: bold;display: inline-block;line-height: 1.2em;}#sk-container-id-1 div.sk-label-container {text-align: center;}#sk-container-id-1 div.sk-container {/* jupyter's `normalize.less` sets `[hidden] { display: none; }` but bootstrap.min.css set `[hidden] { display: none !important; }` so we also need the `!important` here to be able to override the default hidden behavior on the sphinx rendered scikit-learn.org. See: https://github.com/scikit-learn/scikit-learn/issues/21755 */display: inline-block !important;position: relative;}#sk-container-id-1 div.sk-text-repr-fallback {display: none;}</style><div id=\"sk-container-id-1\" class=\"sk-top-container\"><div class=\"sk-text-repr-fallback\"><pre>OneHotEncoder()</pre><b>In a Jupyter environment, please rerun this cell to show the HTML representation or trust the notebook. <br />On GitHub, the HTML representation is unable to render, please try loading this page with nbviewer.org.</b></div><div class=\"sk-container\" hidden><div class=\"sk-item\"><div class=\"sk-estimator sk-toggleable\"><input class=\"sk-toggleable__control sk-hidden--visually\" id=\"sk-estimator-id-1\" type=\"checkbox\" checked><label for=\"sk-estimator-id-1\" class=\"sk-toggleable__label sk-toggleable__label-arrow\">OneHotEncoder</label><div class=\"sk-toggleable__content\"><pre>OneHotEncoder()</pre></div></div></div></div></div>"
      ],
      "text/plain": [
       "OneHotEncoder()"
      ]
     },
     "execution_count": 7,
     "metadata": {},
     "output_type": "execute_result"
    }
   ],
   "source": [
    "from sklearn.preprocessing import OneHotEncoder\n",
    "from sklearn.compose import make_column_transformer\n",
    "ohe = OneHotEncoder()\n",
    "ohe.fit(X[[\"POSTED_BY\", \"BHK_OR_RK\", \"CITY\"]])"
   ]
  },
  {
   "cell_type": "code",
   "execution_count": 9,
   "id": "9ebb8625",
   "metadata": {},
   "outputs": [],
   "source": [
    "ct = make_column_transformer((OneHotEncoder(categories = ohe.categories_), \n",
    "                              [\"POSTED_BY\", \"BHK_OR_RK\", \"CITY\"]), \n",
    "                             remainder = 'passthrough')"
   ]
  },
  {
   "cell_type": "code",
   "execution_count": 11,
   "id": "be207a78",
   "metadata": {},
   "outputs": [],
   "source": [
    "from sklearn.linear_model import LinearRegression\n",
    "reg = LinearRegression()"
   ]
  },
  {
   "cell_type": "code",
   "execution_count": 12,
   "id": "163ed085",
   "metadata": {},
   "outputs": [],
   "source": [
    "from sklearn.pipeline import make_pipeline\n",
    "pipe = make_pipeline(ct, reg)"
   ]
  },
  {
   "cell_type": "code",
   "execution_count": 19,
   "id": "54aa2d68",
   "metadata": {},
   "outputs": [],
   "source": [
    "from sklearn.model_selection import train_test_split\n",
    "from sklearn.metrics import r2_score\n",
    "scores = []\n",
    "for i in range(0, 100):\n",
    "    X_train, X_test, y_train, y_test = train_test_split(X, y, test_size = 0.001, random_state = i)\n",
    "    pipe.fit(X_train, y_train)\n",
    "    result = pipe.predict(X_test)\n",
    "    score = r2_score(y_test, result)\n",
    "    scores.append(score)"
   ]
  },
  {
   "cell_type": "code",
   "execution_count": 29,
   "id": "75e40368",
   "metadata": {},
   "outputs": [],
   "source": [
    "best = np.argmax(scores)"
   ]
  },
  {
   "cell_type": "code",
   "execution_count": 22,
   "id": "5ea5e6c8",
   "metadata": {},
   "outputs": [
    {
     "data": {
      "text/html": [
       "<style>#sk-container-id-5 {color: black;background-color: white;}#sk-container-id-5 pre{padding: 0;}#sk-container-id-5 div.sk-toggleable {background-color: white;}#sk-container-id-5 label.sk-toggleable__label {cursor: pointer;display: block;width: 100%;margin-bottom: 0;padding: 0.3em;box-sizing: border-box;text-align: center;}#sk-container-id-5 label.sk-toggleable__label-arrow:before {content: \"▸\";float: left;margin-right: 0.25em;color: #696969;}#sk-container-id-5 label.sk-toggleable__label-arrow:hover:before {color: black;}#sk-container-id-5 div.sk-estimator:hover label.sk-toggleable__label-arrow:before {color: black;}#sk-container-id-5 div.sk-toggleable__content {max-height: 0;max-width: 0;overflow: hidden;text-align: left;background-color: #f0f8ff;}#sk-container-id-5 div.sk-toggleable__content pre {margin: 0.2em;color: black;border-radius: 0.25em;background-color: #f0f8ff;}#sk-container-id-5 input.sk-toggleable__control:checked~div.sk-toggleable__content {max-height: 200px;max-width: 100%;overflow: auto;}#sk-container-id-5 input.sk-toggleable__control:checked~label.sk-toggleable__label-arrow:before {content: \"▾\";}#sk-container-id-5 div.sk-estimator input.sk-toggleable__control:checked~label.sk-toggleable__label {background-color: #d4ebff;}#sk-container-id-5 div.sk-label input.sk-toggleable__control:checked~label.sk-toggleable__label {background-color: #d4ebff;}#sk-container-id-5 input.sk-hidden--visually {border: 0;clip: rect(1px 1px 1px 1px);clip: rect(1px, 1px, 1px, 1px);height: 1px;margin: -1px;overflow: hidden;padding: 0;position: absolute;width: 1px;}#sk-container-id-5 div.sk-estimator {font-family: monospace;background-color: #f0f8ff;border: 1px dotted black;border-radius: 0.25em;box-sizing: border-box;margin-bottom: 0.5em;}#sk-container-id-5 div.sk-estimator:hover {background-color: #d4ebff;}#sk-container-id-5 div.sk-parallel-item::after {content: \"\";width: 100%;border-bottom: 1px solid gray;flex-grow: 1;}#sk-container-id-5 div.sk-label:hover label.sk-toggleable__label {background-color: #d4ebff;}#sk-container-id-5 div.sk-serial::before {content: \"\";position: absolute;border-left: 1px solid gray;box-sizing: border-box;top: 0;bottom: 0;left: 50%;z-index: 0;}#sk-container-id-5 div.sk-serial {display: flex;flex-direction: column;align-items: center;background-color: white;padding-right: 0.2em;padding-left: 0.2em;position: relative;}#sk-container-id-5 div.sk-item {position: relative;z-index: 1;}#sk-container-id-5 div.sk-parallel {display: flex;align-items: stretch;justify-content: center;background-color: white;position: relative;}#sk-container-id-5 div.sk-item::before, #sk-container-id-5 div.sk-parallel-item::before {content: \"\";position: absolute;border-left: 1px solid gray;box-sizing: border-box;top: 0;bottom: 0;left: 50%;z-index: -1;}#sk-container-id-5 div.sk-parallel-item {display: flex;flex-direction: column;z-index: 1;position: relative;background-color: white;}#sk-container-id-5 div.sk-parallel-item:first-child::after {align-self: flex-end;width: 50%;}#sk-container-id-5 div.sk-parallel-item:last-child::after {align-self: flex-start;width: 50%;}#sk-container-id-5 div.sk-parallel-item:only-child::after {width: 0;}#sk-container-id-5 div.sk-dashed-wrapped {border: 1px dashed gray;margin: 0 0.4em 0.5em 0.4em;box-sizing: border-box;padding-bottom: 0.4em;background-color: white;}#sk-container-id-5 div.sk-label label {font-family: monospace;font-weight: bold;display: inline-block;line-height: 1.2em;}#sk-container-id-5 div.sk-label-container {text-align: center;}#sk-container-id-5 div.sk-container {/* jupyter's `normalize.less` sets `[hidden] { display: none; }` but bootstrap.min.css set `[hidden] { display: none !important; }` so we also need the `!important` here to be able to override the default hidden behavior on the sphinx rendered scikit-learn.org. See: https://github.com/scikit-learn/scikit-learn/issues/21755 */display: inline-block !important;position: relative;}#sk-container-id-5 div.sk-text-repr-fallback {display: none;}</style><div id=\"sk-container-id-5\" class=\"sk-top-container\"><div class=\"sk-text-repr-fallback\"><pre>Pipeline(steps=[(&#x27;columntransformer&#x27;,\n",
       "                 ColumnTransformer(remainder=&#x27;passthrough&#x27;,\n",
       "                                   transformers=[(&#x27;onehotencoder&#x27;,\n",
       "                                                  OneHotEncoder(categories=[array([&#x27;Builder&#x27;, &#x27;Dealer&#x27;, &#x27;Owner&#x27;], dtype=object),\n",
       "                                                                            array([&#x27;BHK&#x27;, &#x27;RK&#x27;], dtype=object),\n",
       "                                                                            array([&#x27;Agartala&#x27;, &#x27;Agra&#x27;, &#x27;Ahmednagar&#x27;, &#x27;Ajmer&#x27;, &#x27;Akola&#x27;, &#x27;Aligarh&#x27;,\n",
       "       &#x27;Allahabad&#x27;, &#x27;Alwar&#x27;, &#x27;Ambala&#x27;, &#x27;Amravati&#x27;, &#x27;Amritsar&#x27;, &#x27;Amroha&#x27;,\n",
       "       &#x27;Anand&#x27;,...\n",
       "       &#x27;Srikakulam&#x27;, &#x27;Srinagar&#x27;, &#x27;Surat&#x27;, &#x27;Surendranagar&#x27;, &#x27;Tenali&#x27;,\n",
       "       &#x27;Thanjavur&#x27;, &#x27;Thoothukudi&#x27;, &#x27;Thrissur&#x27;, &#x27;Tirunelveli&#x27;, &#x27;Tirupati&#x27;,\n",
       "       &#x27;Udaipur&#x27;, &#x27;Udupi&#x27;, &#x27;Ujjain&#x27;, &#x27;Vadodara&#x27;, &#x27;Valsad&#x27;, &#x27;Vapi&#x27;,\n",
       "       &#x27;Varanasi&#x27;, &#x27;Vellore&#x27;, &#x27;Vijayawada&#x27;, &#x27;Visakhapatnam&#x27;, &#x27;Visnagar&#x27;,\n",
       "       &#x27;Vizianagaram&#x27;, &#x27;Warangal&#x27;, &#x27;Wardha&#x27;, &#x27;Washim&#x27;, &#x27;Yavatmal&#x27;],\n",
       "      dtype=object)]),\n",
       "                                                  [&#x27;POSTED_BY&#x27;, &#x27;BHK_OR_RK&#x27;,\n",
       "                                                   &#x27;CITY&#x27;])])),\n",
       "                (&#x27;linearregression&#x27;, LinearRegression())])</pre><b>In a Jupyter environment, please rerun this cell to show the HTML representation or trust the notebook. <br />On GitHub, the HTML representation is unable to render, please try loading this page with nbviewer.org.</b></div><div class=\"sk-container\" hidden><div class=\"sk-item sk-dashed-wrapped\"><div class=\"sk-label-container\"><div class=\"sk-label sk-toggleable\"><input class=\"sk-toggleable__control sk-hidden--visually\" id=\"sk-estimator-id-21\" type=\"checkbox\" ><label for=\"sk-estimator-id-21\" class=\"sk-toggleable__label sk-toggleable__label-arrow\">Pipeline</label><div class=\"sk-toggleable__content\"><pre>Pipeline(steps=[(&#x27;columntransformer&#x27;,\n",
       "                 ColumnTransformer(remainder=&#x27;passthrough&#x27;,\n",
       "                                   transformers=[(&#x27;onehotencoder&#x27;,\n",
       "                                                  OneHotEncoder(categories=[array([&#x27;Builder&#x27;, &#x27;Dealer&#x27;, &#x27;Owner&#x27;], dtype=object),\n",
       "                                                                            array([&#x27;BHK&#x27;, &#x27;RK&#x27;], dtype=object),\n",
       "                                                                            array([&#x27;Agartala&#x27;, &#x27;Agra&#x27;, &#x27;Ahmednagar&#x27;, &#x27;Ajmer&#x27;, &#x27;Akola&#x27;, &#x27;Aligarh&#x27;,\n",
       "       &#x27;Allahabad&#x27;, &#x27;Alwar&#x27;, &#x27;Ambala&#x27;, &#x27;Amravati&#x27;, &#x27;Amritsar&#x27;, &#x27;Amroha&#x27;,\n",
       "       &#x27;Anand&#x27;,...\n",
       "       &#x27;Srikakulam&#x27;, &#x27;Srinagar&#x27;, &#x27;Surat&#x27;, &#x27;Surendranagar&#x27;, &#x27;Tenali&#x27;,\n",
       "       &#x27;Thanjavur&#x27;, &#x27;Thoothukudi&#x27;, &#x27;Thrissur&#x27;, &#x27;Tirunelveli&#x27;, &#x27;Tirupati&#x27;,\n",
       "       &#x27;Udaipur&#x27;, &#x27;Udupi&#x27;, &#x27;Ujjain&#x27;, &#x27;Vadodara&#x27;, &#x27;Valsad&#x27;, &#x27;Vapi&#x27;,\n",
       "       &#x27;Varanasi&#x27;, &#x27;Vellore&#x27;, &#x27;Vijayawada&#x27;, &#x27;Visakhapatnam&#x27;, &#x27;Visnagar&#x27;,\n",
       "       &#x27;Vizianagaram&#x27;, &#x27;Warangal&#x27;, &#x27;Wardha&#x27;, &#x27;Washim&#x27;, &#x27;Yavatmal&#x27;],\n",
       "      dtype=object)]),\n",
       "                                                  [&#x27;POSTED_BY&#x27;, &#x27;BHK_OR_RK&#x27;,\n",
       "                                                   &#x27;CITY&#x27;])])),\n",
       "                (&#x27;linearregression&#x27;, LinearRegression())])</pre></div></div></div><div class=\"sk-serial\"><div class=\"sk-item sk-dashed-wrapped\"><div class=\"sk-label-container\"><div class=\"sk-label sk-toggleable\"><input class=\"sk-toggleable__control sk-hidden--visually\" id=\"sk-estimator-id-22\" type=\"checkbox\" ><label for=\"sk-estimator-id-22\" class=\"sk-toggleable__label sk-toggleable__label-arrow\">columntransformer: ColumnTransformer</label><div class=\"sk-toggleable__content\"><pre>ColumnTransformer(remainder=&#x27;passthrough&#x27;,\n",
       "                  transformers=[(&#x27;onehotencoder&#x27;,\n",
       "                                 OneHotEncoder(categories=[array([&#x27;Builder&#x27;, &#x27;Dealer&#x27;, &#x27;Owner&#x27;], dtype=object),\n",
       "                                                           array([&#x27;BHK&#x27;, &#x27;RK&#x27;], dtype=object),\n",
       "                                                           array([&#x27;Agartala&#x27;, &#x27;Agra&#x27;, &#x27;Ahmednagar&#x27;, &#x27;Ajmer&#x27;, &#x27;Akola&#x27;, &#x27;Aligarh&#x27;,\n",
       "       &#x27;Allahabad&#x27;, &#x27;Alwar&#x27;, &#x27;Ambala&#x27;, &#x27;Amravati&#x27;, &#x27;Amritsar&#x27;, &#x27;Amroha&#x27;,\n",
       "       &#x27;Anand&#x27;, &#x27;Anantapur&#x27;, &#x27;Angul&#x27;, &#x27;Arrah&#x27;, &#x27;Asansol&#x27;...\n",
       "       &#x27;Siliguri&#x27;, &#x27;Sindhudurg&#x27;, &#x27;Siwan&#x27;, &#x27;Solan&#x27;, &#x27;Solapur&#x27;, &#x27;Sonipat&#x27;,\n",
       "       &#x27;Srikakulam&#x27;, &#x27;Srinagar&#x27;, &#x27;Surat&#x27;, &#x27;Surendranagar&#x27;, &#x27;Tenali&#x27;,\n",
       "       &#x27;Thanjavur&#x27;, &#x27;Thoothukudi&#x27;, &#x27;Thrissur&#x27;, &#x27;Tirunelveli&#x27;, &#x27;Tirupati&#x27;,\n",
       "       &#x27;Udaipur&#x27;, &#x27;Udupi&#x27;, &#x27;Ujjain&#x27;, &#x27;Vadodara&#x27;, &#x27;Valsad&#x27;, &#x27;Vapi&#x27;,\n",
       "       &#x27;Varanasi&#x27;, &#x27;Vellore&#x27;, &#x27;Vijayawada&#x27;, &#x27;Visakhapatnam&#x27;, &#x27;Visnagar&#x27;,\n",
       "       &#x27;Vizianagaram&#x27;, &#x27;Warangal&#x27;, &#x27;Wardha&#x27;, &#x27;Washim&#x27;, &#x27;Yavatmal&#x27;],\n",
       "      dtype=object)]),\n",
       "                                 [&#x27;POSTED_BY&#x27;, &#x27;BHK_OR_RK&#x27;, &#x27;CITY&#x27;])])</pre></div></div></div><div class=\"sk-parallel\"><div class=\"sk-parallel-item\"><div class=\"sk-item\"><div class=\"sk-label-container\"><div class=\"sk-label sk-toggleable\"><input class=\"sk-toggleable__control sk-hidden--visually\" id=\"sk-estimator-id-23\" type=\"checkbox\" ><label for=\"sk-estimator-id-23\" class=\"sk-toggleable__label sk-toggleable__label-arrow\">onehotencoder</label><div class=\"sk-toggleable__content\"><pre>[&#x27;POSTED_BY&#x27;, &#x27;BHK_OR_RK&#x27;, &#x27;CITY&#x27;]</pre></div></div></div><div class=\"sk-serial\"><div class=\"sk-item\"><div class=\"sk-estimator sk-toggleable\"><input class=\"sk-toggleable__control sk-hidden--visually\" id=\"sk-estimator-id-24\" type=\"checkbox\" ><label for=\"sk-estimator-id-24\" class=\"sk-toggleable__label sk-toggleable__label-arrow\">OneHotEncoder</label><div class=\"sk-toggleable__content\"><pre>OneHotEncoder(categories=[array([&#x27;Builder&#x27;, &#x27;Dealer&#x27;, &#x27;Owner&#x27;], dtype=object),\n",
       "                          array([&#x27;BHK&#x27;, &#x27;RK&#x27;], dtype=object),\n",
       "                          array([&#x27;Agartala&#x27;, &#x27;Agra&#x27;, &#x27;Ahmednagar&#x27;, &#x27;Ajmer&#x27;, &#x27;Akola&#x27;, &#x27;Aligarh&#x27;,\n",
       "       &#x27;Allahabad&#x27;, &#x27;Alwar&#x27;, &#x27;Ambala&#x27;, &#x27;Amravati&#x27;, &#x27;Amritsar&#x27;, &#x27;Amroha&#x27;,\n",
       "       &#x27;Anand&#x27;, &#x27;Anantapur&#x27;, &#x27;Angul&#x27;, &#x27;Arrah&#x27;, &#x27;Asansol&#x27;, &#x27;Aurangabad&#x27;,\n",
       "       &#x27;Baddi&#x27;, &#x27;Bahadurgarh&#x27;, &#x27;Balasore&#x27;, &#x27;Bangalore&#x27;, &#x27;Bankura&#x27;,\n",
       "       &#x27;Ban...\n",
       "       &#x27;Siliguri&#x27;, &#x27;Sindhudurg&#x27;, &#x27;Siwan&#x27;, &#x27;Solan&#x27;, &#x27;Solapur&#x27;, &#x27;Sonipat&#x27;,\n",
       "       &#x27;Srikakulam&#x27;, &#x27;Srinagar&#x27;, &#x27;Surat&#x27;, &#x27;Surendranagar&#x27;, &#x27;Tenali&#x27;,\n",
       "       &#x27;Thanjavur&#x27;, &#x27;Thoothukudi&#x27;, &#x27;Thrissur&#x27;, &#x27;Tirunelveli&#x27;, &#x27;Tirupati&#x27;,\n",
       "       &#x27;Udaipur&#x27;, &#x27;Udupi&#x27;, &#x27;Ujjain&#x27;, &#x27;Vadodara&#x27;, &#x27;Valsad&#x27;, &#x27;Vapi&#x27;,\n",
       "       &#x27;Varanasi&#x27;, &#x27;Vellore&#x27;, &#x27;Vijayawada&#x27;, &#x27;Visakhapatnam&#x27;, &#x27;Visnagar&#x27;,\n",
       "       &#x27;Vizianagaram&#x27;, &#x27;Warangal&#x27;, &#x27;Wardha&#x27;, &#x27;Washim&#x27;, &#x27;Yavatmal&#x27;],\n",
       "      dtype=object)])</pre></div></div></div></div></div></div><div class=\"sk-parallel-item\"><div class=\"sk-item\"><div class=\"sk-label-container\"><div class=\"sk-label sk-toggleable\"><input class=\"sk-toggleable__control sk-hidden--visually\" id=\"sk-estimator-id-25\" type=\"checkbox\" ><label for=\"sk-estimator-id-25\" class=\"sk-toggleable__label sk-toggleable__label-arrow\">remainder</label><div class=\"sk-toggleable__content\"><pre>[&#x27;UNDER_CONSTRUCTION&#x27;, &#x27;RERA&#x27;, &#x27;BHK_NO.&#x27;, &#x27;SQUARE_FT&#x27;, &#x27;READY_TO_MOVE&#x27;, &#x27;RESALE&#x27;]</pre></div></div></div><div class=\"sk-serial\"><div class=\"sk-item\"><div class=\"sk-estimator sk-toggleable\"><input class=\"sk-toggleable__control sk-hidden--visually\" id=\"sk-estimator-id-26\" type=\"checkbox\" ><label for=\"sk-estimator-id-26\" class=\"sk-toggleable__label sk-toggleable__label-arrow\">passthrough</label><div class=\"sk-toggleable__content\"><pre>passthrough</pre></div></div></div></div></div></div></div></div><div class=\"sk-item\"><div class=\"sk-estimator sk-toggleable\"><input class=\"sk-toggleable__control sk-hidden--visually\" id=\"sk-estimator-id-27\" type=\"checkbox\" ><label for=\"sk-estimator-id-27\" class=\"sk-toggleable__label sk-toggleable__label-arrow\">LinearRegression</label><div class=\"sk-toggleable__content\"><pre>LinearRegression()</pre></div></div></div></div></div></div></div>"
      ],
      "text/plain": [
       "Pipeline(steps=[('columntransformer',\n",
       "                 ColumnTransformer(remainder='passthrough',\n",
       "                                   transformers=[('onehotencoder',\n",
       "                                                  OneHotEncoder(categories=[array(['Builder', 'Dealer', 'Owner'], dtype=object),\n",
       "                                                                            array(['BHK', 'RK'], dtype=object),\n",
       "                                                                            array(['Agartala', 'Agra', 'Ahmednagar', 'Ajmer', 'Akola', 'Aligarh',\n",
       "       'Allahabad', 'Alwar', 'Ambala', 'Amravati', 'Amritsar', 'Amroha',\n",
       "       'Anand',...\n",
       "       'Srikakulam', 'Srinagar', 'Surat', 'Surendranagar', 'Tenali',\n",
       "       'Thanjavur', 'Thoothukudi', 'Thrissur', 'Tirunelveli', 'Tirupati',\n",
       "       'Udaipur', 'Udupi', 'Ujjain', 'Vadodara', 'Valsad', 'Vapi',\n",
       "       'Varanasi', 'Vellore', 'Vijayawada', 'Visakhapatnam', 'Visnagar',\n",
       "       'Vizianagaram', 'Warangal', 'Wardha', 'Washim', 'Yavatmal'],\n",
       "      dtype=object)]),\n",
       "                                                  ['POSTED_BY', 'BHK_OR_RK',\n",
       "                                                   'CITY'])])),\n",
       "                ('linearregression', LinearRegression())])"
      ]
     },
     "execution_count": 22,
     "metadata": {},
     "output_type": "execute_result"
    }
   ],
   "source": [
    "X_train, X_test, y_train, y_test = train_test_split(X, y, test_size = 0.001, random_state = best)\n",
    "pipe.fit(X_train, y_train)"
   ]
  },
  {
   "cell_type": "code",
   "execution_count": 34,
   "id": "d0126102",
   "metadata": {},
   "outputs": [
    {
     "data": {
      "text/plain": [
       "109.29"
      ]
     },
     "execution_count": 34,
     "metadata": {},
     "output_type": "execute_result"
    }
   ],
   "source": [
    "columns = ['POSTED_BY', 'UNDER_CONSTRUCTION', 'RERA', 'BHK_NO.', 'BHK_OR_RK', 'SQUARE_FT', 'READY_TO_MOVE', 'RESALE', 'CITY']\n",
    "values = [['Owner', 0, 0, 3, 'BHK', 1500, 1, 0, 'Mumbai']]\n",
    "myinput = pd.DataFrame(columns = columns, data = values)\n",
    "result = pipe.predict(myinput)\n",
    "round(result[0,0], 2)"
   ]
  },
  {
   "cell_type": "code",
   "execution_count": null,
   "id": "f5b7b21e",
   "metadata": {},
   "outputs": [],
   "source": [
    "#To Study\n",
    "#Hyper parameter tuning\n",
    "#Correlation\n",
    "#Random Forest/Linear Regression/SVM - Model Selection"
   ]
  }
 ],
 "metadata": {
  "kernelspec": {
   "display_name": "Python 3 (ipykernel)",
   "language": "python",
   "name": "python3"
  },
  "language_info": {
   "codemirror_mode": {
    "name": "ipython",
    "version": 3
   },
   "file_extension": ".py",
   "mimetype": "text/x-python",
   "name": "python",
   "nbconvert_exporter": "python",
   "pygments_lexer": "ipython3",
   "version": "3.11.4"
  }
 },
 "nbformat": 4,
 "nbformat_minor": 5
}
